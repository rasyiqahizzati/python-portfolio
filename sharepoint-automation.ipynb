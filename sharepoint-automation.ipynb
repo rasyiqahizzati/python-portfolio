{
 "cells": [
  {
   "cell_type": "markdown",
   "metadata": {},
   "source": [
    "Example Usage of ClientContext\n",
    "- In the context of your code, ctx likely refers to the ClientContext object from the office365.sharepoint.client_context module. This object is used to interact with SharePoint sites. Here’s a brief overview of how it works:"
   ]
  },
  {
   "cell_type": "code",
   "execution_count": null,
   "metadata": {},
   "outputs": [],
   "source": [
    "from office365.sharepoint.client_context import ClientContext\n",
    "from office365.runtime.auth.user_credential import UserCredential\n",
    "\n",
    "# SharePoint site URL\n",
    "site_url = \"https://your_sharepoint_site_url\"\n",
    "\n",
    "# User credentials\n",
    "username = \"your_username\"\n",
    "password = \"your_password\"\n",
    "\n",
    "# Create a ClientContext object\n",
    "ctx = ClientContext(site_url).with_credentials(UserCredential(username, password))\n",
    "\n",
    "# Example: Get the web title\n",
    "web = ctx.web\n",
    "ctx.load(web)\n",
    "ctx.execute_query()\n",
    "print(\"Web title: {0}\".format(web.properties['Title']))"
   ]
  },
  {
   "cell_type": "markdown",
   "metadata": {},
   "source": [
    "Explanation:\n",
    "ClientContext: This object is used to connect to a SharePoint site.\n",
    "UserCredential: This is used to authenticate the user.\n",
    "ctx.load(web): Loads the web object.\n",
    "ctx.execute_query(): Executes the query to retrieve the data from SharePoint."
   ]
  },
  {
   "cell_type": "code",
   "execution_count": null,
   "metadata": {},
   "outputs": [],
   "source": [
    "# Define the local path and file name\n",
    "local_path = \"/path/to/your/directory/\"\n",
    "local_filename = \"your_file_name.xlsx\"\n",
    "\n",
    "# Concatenate the path and file name\n",
    "local_file = local_path + local_filename\n",
    "\n",
    "# Print the full file path\n",
    "print(local_file)"
   ]
  },
  {
   "cell_type": "markdown",
   "metadata": {},
   "source": [
    "Below is the function to move a file between SharePoint directories :"
   ]
  },
  {
   "cell_type": "code",
   "execution_count": null,
   "metadata": {},
   "outputs": [],
   "source": [
    "#Retrieve File Information\n",
    "file_info = ctx.web.get_file_by_server_relative_path(url).get().execute_query()\n",
    "file_id = file_info.unique_id"
   ]
  },
  {
   "cell_type": "code",
   "execution_count": null,
   "metadata": {},
   "outputs": [],
   "source": [
    "#Build Query Strings\n",
    "get_file_query_string = \"getFileById('{}')\".format(file_id)\n",
    "moveto_query_params = {\"newurl\": dir + \"/\" + name, \"flags\": 1}\n",
    "moveto_query_string = sharepoint_buildurl(\"moveto\", moveto_query_params)"
   ]
  },
  {
   "cell_type": "markdown",
   "metadata": {},
   "source": [
    "# moveto_query_params: \n",
    "- This is a dictionary that holds the parameters for the move operation.\n",
    "\n",
    "# \"newurl\": dir + \"/\" + name:\n",
    "- newurl: This key specifies the new URL where the file should be moved.\n",
    "-  dir + \"/\" + name: This concatenates the directory path (dir) and the new file name (name) to form the full path of the new location.\n",
    "- dir: The destination directory where the file will be moved.\n",
    "- name: The new name of the file after it is moved.\n",
    "\n",
    "# \"flags\": 1:\n",
    "- This key-value pair specifies additional options for the move operation.\n",
    "- flags: This parameter is used to control the behavior of the move operation. In this case, the value 1 typically means that the move operation should overwrite the destination file if it already exists."
   ]
  },
  {
   "cell_type": "code",
   "execution_count": null,
   "metadata": {},
   "outputs": [],
   "source": [
    "#Construct the Move URL\n",
    "moveto_url = \"/\".join(\n",
    "    [ctx.service_root_url(), \"web\", get_file_query_string, moveto_query_string]\n",
    ")"
   ]
  },
  {
   "cell_type": "code",
   "execution_count": null,
   "metadata": {},
   "outputs": [],
   "source": [
    "#Create and Execute the Request\n",
    "request = RequestOptions(moveto_url)\n",
    "request.method = \"POST\"\n",
    "ctx.pending_request().execute_request_direct(request)"
   ]
  },
  {
   "cell_type": "markdown",
   "metadata": {},
   "source": [
    "Example :"
   ]
  },
  {
   "cell_type": "code",
   "execution_count": null,
   "metadata": {},
   "outputs": [],
   "source": [
    "# Define the SharePoint context\n",
    "ctx = ClientContext(site_url).with_credentials(UserCredential(username, password))\n",
    "\n",
    "# Define the file URL, new name, and destination directory\n",
    "file_url = \"/sites/your_site/Shared Documents/your_file.xlsx\"\n",
    "new_name = \"new_file_name.xlsx\"\n",
    "destination_dir = \"/sites/your_site/Shared Documents/New Folder\"\n",
    "\n",
    "# Move the file\n",
    "moveFile(file_url, new_name, destination_dir)\n"
   ]
  },
  {
   "cell_type": "code",
   "execution_count": null,
   "metadata": {},
   "outputs": [],
   "source": [
    "#Get the Root Folder\n",
    "root_folder = ctx.web.get_folder_by_server_relative_path(sharepoint_path)\n"
   ]
  },
  {
   "cell_type": "markdown",
   "metadata": {},
   "source": [
    "# ctx.web.get_folder_by_server_relative_path(sharepoint_path): \n",
    "- This method retrieves the folder object from SharePoint using the server-relative path provided in sharepoint_path.\n",
    "# root_folder: \n",
    "- This variable now holds the reference to the specified folder in SharePoint."
   ]
  },
  {
   "cell_type": "code",
   "execution_count": null,
   "metadata": {},
   "outputs": [],
   "source": [
    "#List All Files in the Directory\n",
    "files = root_folder.get_files(True).execute_query()\n"
   ]
  },
  {
   "cell_type": "markdown",
   "metadata": {},
   "source": [
    "# root_folder.get_files(True): \n",
    "- This method retrieves all files in the specified folder, including those in subdirectories. The True parameter indicates that the search should be recursive, meaning it will include files in all subdirectories.\n",
    "# execute_query(): \n",
    "- This method executes the query to retrieve the files from SharePoint."
   ]
  },
  {
   "cell_type": "code",
   "execution_count": null,
   "metadata": {},
   "outputs": [],
   "source": [
    "#This list to automate the process of loading data from files into the corresponding database tables\n",
    "for file_name, table_name in categorySeq:\n",
    "    print(f\"Loading data from {file_name} into {table_name}\")\n",
    "    # Add your code here to load data from the file into the table\n"
   ]
  },
  {
   "cell_type": "markdown",
   "metadata": {},
   "source": [
    "Output :\n",
    "Loading data from Master_Send_TD into nps_master_send_td\n",
    "Loading data from Master_Response_TD into nps_master_response_td\n",
    "Loading data from Master_Send_BU into nps_master_send_bu\n",
    "Loading data from Master_Response_BU into nps_master_response_bu\n"
   ]
  },
  {
   "cell_type": "markdown",
   "metadata": {},
   "source": [
    "Example:"
   ]
  },
  {
   "cell_type": "code",
   "execution_count": null,
   "metadata": {},
   "outputs": [],
   "source": [
    "# List of categories\n",
    "categories = [\"Electronics\", \"Books\", \"Clothing\", \"Home & Kitchen\"]\n",
    "\n",
    "# Assign sequence numbers to categories\n",
    "categorySeq = {category: index for index, category in enumerate(categories)}\n",
    "\n",
    "# Print the sequence numbers\n",
    "print(categorySeq)\n"
   ]
  },
  {
   "cell_type": "code",
   "execution_count": null,
   "metadata": {},
   "outputs": [],
   "source": [
    "#Iterate Over Categories\n",
    "for eachCat in categorySeq:"
   ]
  },
  {
   "cell_type": "markdown",
   "metadata": {},
   "source": [
    "Loops through each pair in categorySeq, where eachCat[0] is the file name pattern and eachCat[1] is the corresponding database table name."
   ]
  },
  {
   "cell_type": "code",
   "execution_count": null,
   "metadata": {},
   "outputs": [],
   "source": [
    "#Find Matching Files\n",
    "matching_files = [\n",
    "    f\n",
    "    for f in files\n",
    "    if eachCat[0] in f.properties[\"Name\"]  # search for the files with the matching name\n",
    "    and f.serverRelativeUrl == sharepoint_path + \"/\" + f.name\n",
    "]"
   ]
  },
  {
   "cell_type": "markdown",
   "metadata": {},
   "source": [
    "Filters the list of files to find those that match the current category’s file name pattern and are located in the specified SharePoint path."
   ]
  },
  {
   "cell_type": "code",
   "execution_count": null,
   "metadata": {},
   "outputs": [],
   "source": [
    "#Process Each Matching File\n",
    "for f in matching_files:\n",
    "    # download to the local folder\n",
    "    file_url = f.properties[\"ServerRelativeUrl\"]\n",
    "    download_file = os.path.join(local_path, os.path.basename(file_url))\n"
   ]
  },
  {
   "cell_type": "markdown",
   "metadata": {},
   "source": [
    "For each matching file, constructs the local file path where the file will be downloaded."
   ]
  },
  {
   "cell_type": "code",
   "execution_count": null,
   "metadata": {},
   "outputs": [],
   "source": [
    "#Extract Year and Quarter from File Name\n",
    "file_name = f.properties[\"Name\"]\n",
    "pattern = r'_(\\d{4})(Q[1-4])'\n",
    "match = re.search(pattern, file_name)\n",
    "\n",
    "if match:\n",
    "    year = match.group(1)\n",
    "    quarter = match.group(2)\n",
    "\n",
    "print(f\"Year: {year}, Quarter: {quarter}\")\n",
    "print(f\"Processing for {file_name}\")\n"
   ]
  },
  {
   "cell_type": "markdown",
   "metadata": {},
   "source": [
    "Uses a regular expression to extract the year and quarter from the file name. Prints the extracted values for verification."
   ]
  },
  {
   "cell_type": "code",
   "execution_count": null,
   "metadata": {},
   "outputs": [],
   "source": [
    "#Download the File\n",
    "with open(download_file, \"wb\") as local_file:\n",
    "    file = (\n",
    "        ctx.web.get_file_by_server_relative_path(file_url)\n",
    "        .download(local_file)\n",
    "        .execute_query()\n",
    "    )"
   ]
  },
  {
   "cell_type": "code",
   "execution_count": null,
   "metadata": {},
   "outputs": [],
   "source": [
    "#Read the File into a DataFrame\n",
    "nps_df = pd.read_excel(download_file)\n"
   ]
  },
  {
   "cell_type": "markdown",
   "metadata": {},
   "source": [
    "Reads the downloaded Excel file into a pandas DataFrame"
   ]
  },
  {
   "cell_type": "code",
   "execution_count": null,
   "metadata": {},
   "outputs": [],
   "source": [
    "#Ingest Data into PostgreSQL\n",
    "nps_df.to_sql('nps_temp', postgres_engine, schema='pxl_temp', if_exists='replace', index=False)\n"
   ]
  },
  {
   "cell_type": "code",
   "execution_count": null,
   "metadata": {},
   "outputs": [],
   "source": [
    "#Move Processed Files\n",
    "moveFile(file_url, f.name, sharepoint_path_processed)\n"
   ]
  },
  {
   "cell_type": "markdown",
   "metadata": {},
   "source": [
    "# Purpose: \n",
    "- Moves the processed file to a designated folder (sharepoint_path_processed) after it has been successfully processed.\n",
    "\n",
    "# Function Call: \n",
    "- moveFile(file_url, f.name, sharepoint_path_processed) uses the moveFile function you defined earlier to move the file."
   ]
  },
  {
   "cell_type": "code",
   "execution_count": null,
   "metadata": {},
   "outputs": [],
   "source": [
    "#Handle Non-Matching Files\n",
    "else:  # if the file does not match any of the name pattern\n",
    "    moveFile(file_url, f.name, sharepoint_path_failed)"
   ]
  },
  {
   "cell_type": "markdown",
   "metadata": {},
   "source": [
    "# Purpose: \n",
    "- Moves files that do not match the expected name pattern to a different folder (sharepoint_path_failed).\n",
    "# Function Call: \n",
    "- moveFile(file_url, f.name, sharepoint_path_failed) moves the file to the failed folder."
   ]
  },
  {
   "cell_type": "code",
   "execution_count": null,
   "metadata": {},
   "outputs": [],
   "source": [
    "#Clean Up\n",
    "# delete df and local file\n",
    "del nps_df\n",
    "os.remove(download_file)"
   ]
  },
  {
   "cell_type": "markdown",
   "metadata": {},
   "source": [
    "# Purpose: \n",
    "- Cleans up by deleting the DataFrame and the local file after processing.\n",
    "# Delete DataFrame: \n",
    "- del nps_df removes the DataFrame from memory.\n",
    "# Remove Local File: \n",
    "- os.remove(download_file) deletes the downloaded file from the local directory."
   ]
  },
  {
   "cell_type": "markdown",
   "metadata": {},
   "source": [
    "Full Code Example :"
   ]
  },
  {
   "cell_type": "code",
   "execution_count": null,
   "metadata": {},
   "outputs": [],
   "source": [
    "for eachCat in categorySeq:\n",
    "    # grab ALL the files with the matching name\n",
    "    matching_files = [\n",
    "        f\n",
    "        for f in files\n",
    "        if eachCat[0] in f.properties[\"Name\"]  # search for the files with the matching name\n",
    "        and f.serverRelativeUrl == sharepoint_path + \"/\" + f.name\n",
    "    ]\n",
    "\n",
    "    # process each matching file\n",
    "    for f in matching_files:\n",
    "        # download to the local folder\n",
    "        file_url = f.properties[\"ServerRelativeUrl\"]\n",
    "        download_file = os.path.join(local_path, os.path.basename(file_url))\n",
    "        \n",
    "        # get the year and quarter from the file name \n",
    "        file_name = f.properties[\"Name\"]\n",
    "        pattern = r'_(\\d{4})(Q[1-4])'\n",
    "        match = re.search(pattern, file_name)\n",
    "        \n",
    "        if match:\n",
    "            year = match.group(1)\n",
    "            quarter = match.group(2)\n",
    "        \n",
    "        print(f\"Year: {year}, Quarter: {quarter}\")\n",
    "        print(f\"Processing for {file_name}\")\n",
    "        \n",
    "        # open file\n",
    "        with open(download_file, \"wb\") as local_file:\n",
    "            file = (\n",
    "                ctx.web.get_file_by_server_relative_path(file_url)\n",
    "                .download(local_file)\n",
    "                .execute_query()\n",
    "            )\n",
    "\n",
    "        # read the file and create a dataframe\n",
    "        nps_df = pd.read_excel(download_file)\n",
    "\n",
    "        # ingest to db, temp table first\n",
    "        nps_df.to_sql('nps_temp', postgres_engine, schema='pxl_temp', if_exists='replace', index=False)\n",
    "\n",
    "        # move the processed file to another folder\n",
    "        moveFile(file_url, f.name, sharepoint_path_processed)\n",
    "\n",
    "        # delete df and local file\n",
    "        del nps_df\n",
    "        os.remove(download_file)\n",
    "\n",
    "    else:  # if the file does not match any of the name pattern\n",
    "        moveFile(file_url, f.name, sharepoint_path_failed)\n"
   ]
  },
  {
   "cell_type": "markdown",
   "metadata": {},
   "source": [
    "Additional Considerations:\n",
    "- Error Handling: Add try-except blocks to handle potential errors during file download, processing, or database insertion.\n",
    "\n",
    "- Logging: Implement logging to keep track of the processing status and any errors that occur.\n",
    "\n",
    "- Performance Optimization: If processing a large number of files, consider optimizing the code to handle files in batches or use asynchronous processing."
   ]
  },
  {
   "cell_type": "code",
   "execution_count": null,
   "metadata": {},
   "outputs": [],
   "source": []
  }
 ],
 "metadata": {
  "kernelspec": {
   "display_name": "Python 3",
   "language": "python",
   "name": "python3"
  },
  "language_info": {
   "name": "python",
   "version": "3.9.19"
  }
 },
 "nbformat": 4,
 "nbformat_minor": 2
}
